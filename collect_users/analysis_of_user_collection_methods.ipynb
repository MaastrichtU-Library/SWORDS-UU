{
 "cells": [
  {
   "cell_type": "markdown",
   "id": "b91513b0",
   "metadata": {},
   "source": [
    "# Analysis of user collection\n",
    "\n",
    "In this notebook, the retrieved results of the user collection is analyzed."
   ]
  },
  {
   "cell_type": "code",
   "execution_count": 1,
   "id": "e7f06c14",
   "metadata": {},
   "outputs": [],
   "source": [
    "import glob\n",
    "import time\n",
    "import sys\n",
    "from pathlib import Path\n",
    "\n",
    "import matplotlib.pyplot as plt\n",
    "import pandas as pd\n",
    "import seaborn as sns"
   ]
  },
  {
   "cell_type": "code",
   "execution_count": 16,
   "id": "ec4b17ae",
   "metadata": {},
   "outputs": [],
   "source": [
    "fp_figs = Path(\"figs\")\n",
    "fp_figs = "
   ]
  },
  {
   "cell_type": "markdown",
   "id": "0017c08d",
   "metadata": {},
   "source": [
    "## User collection files"
   ]
  },
  {
   "cell_type": "code",
   "execution_count": 3,
   "id": "c58410c3",
   "metadata": {},
   "outputs": [
    {
     "data": {
      "text/plain": [
       "['methods/papers_with_code/results/ids_paperswithcode.csv',\n",
       " 'methods/github_search/results/ids_search_repos.csv',\n",
       " 'methods/github_search/results/ids_search_users.csv',\n",
       " 'methods/github_search/results/ids_topic_repos.csv',\n",
       " 'methods/university_profile_pages/results/employees_github_usernames.csv',\n",
       " 'methods/pure/results/ids_pure_users.csv']"
      ]
     },
     "execution_count": 3,
     "metadata": {},
     "output_type": "execute_result"
    }
   ],
   "source": [
    "data_files = glob.glob(\"methods/*/results/*.csv\")\n",
    "\n",
    "data_files"
   ]
  },
  {
   "cell_type": "markdown",
   "id": "2c2ab1ca",
   "metadata": {},
   "source": [
    "## Dataset\n",
    "The data contains the source where the GitHub user id is found, the GitHub user id and university id if it is available."
   ]
  },
  {
   "cell_type": "code",
   "execution_count": 4,
   "id": "341bc981",
   "metadata": {},
   "outputs": [
    {
     "data": {
      "text/html": [
       "<div>\n",
       "<style scoped>\n",
       "    .dataframe tbody tr th:only-of-type {\n",
       "        vertical-align: middle;\n",
       "    }\n",
       "\n",
       "    .dataframe tbody tr th {\n",
       "        vertical-align: top;\n",
       "    }\n",
       "\n",
       "    .dataframe thead th {\n",
       "        text-align: right;\n",
       "    }\n",
       "</style>\n",
       "<table border=\"1\" class=\"dataframe\">\n",
       "  <thead>\n",
       "    <tr style=\"text-align: right;\">\n",
       "      <th></th>\n",
       "      <th>source</th>\n",
       "      <th>github_user_id</th>\n",
       "      <th>uu_user_id</th>\n",
       "    </tr>\n",
       "  </thead>\n",
       "  <tbody>\n",
       "    <tr>\n",
       "      <th>0</th>\n",
       "      <td>methods/papers_with_code/results/ids_paperswit...</td>\n",
       "      <td>MarcelRobeer</td>\n",
       "      <td>NaN</td>\n",
       "    </tr>\n",
       "    <tr>\n",
       "      <th>1</th>\n",
       "      <td>methods/papers_with_code/results/ids_paperswit...</td>\n",
       "      <td>YevgenyW</td>\n",
       "      <td>NaN</td>\n",
       "    </tr>\n",
       "    <tr>\n",
       "      <th>2</th>\n",
       "      <td>methods/papers_with_code/results/ids_paperswit...</td>\n",
       "      <td>puregome</td>\n",
       "      <td>NaN</td>\n",
       "    </tr>\n",
       "    <tr>\n",
       "      <th>3</th>\n",
       "      <td>methods/papers_with_code/results/ids_paperswit...</td>\n",
       "      <td>AI4Finance-LLC</td>\n",
       "      <td>NaN</td>\n",
       "    </tr>\n",
       "    <tr>\n",
       "      <th>4</th>\n",
       "      <td>methods/papers_with_code/results/ids_paperswit...</td>\n",
       "      <td>AI4Finance-Foundation</td>\n",
       "      <td>NaN</td>\n",
       "    </tr>\n",
       "    <tr>\n",
       "      <th>...</th>\n",
       "      <td>...</td>\n",
       "      <td>...</td>\n",
       "      <td>...</td>\n",
       "    </tr>\n",
       "    <tr>\n",
       "      <th>553</th>\n",
       "      <td>methods/pure/results/ids_pure_users.csv</td>\n",
       "      <td>keesmulder</td>\n",
       "      <td>NaN</td>\n",
       "    </tr>\n",
       "    <tr>\n",
       "      <th>554</th>\n",
       "      <td>methods/pure/results/ids_pure_users.csv</td>\n",
       "      <td>RianneSchouten</td>\n",
       "      <td>NaN</td>\n",
       "    </tr>\n",
       "    <tr>\n",
       "      <th>555</th>\n",
       "      <td>methods/pure/results/ids_pure_users.csv</td>\n",
       "      <td>ydluo</td>\n",
       "      <td>NaN</td>\n",
       "    </tr>\n",
       "    <tr>\n",
       "      <th>556</th>\n",
       "      <td>methods/pure/results/ids_pure_users.csv</td>\n",
       "      <td>marnixnaber</td>\n",
       "      <td>NaN</td>\n",
       "    </tr>\n",
       "    <tr>\n",
       "      <th>557</th>\n",
       "      <td>methods/pure/results/ids_pure_users.csv</td>\n",
       "      <td>gjlbeckers-uu</td>\n",
       "      <td>NaN</td>\n",
       "    </tr>\n",
       "  </tbody>\n",
       "</table>\n",
       "<p>558 rows × 3 columns</p>\n",
       "</div>"
      ],
      "text/plain": [
       "                                                source         github_user_id  \\\n",
       "0    methods/papers_with_code/results/ids_paperswit...           MarcelRobeer   \n",
       "1    methods/papers_with_code/results/ids_paperswit...               YevgenyW   \n",
       "2    methods/papers_with_code/results/ids_paperswit...               puregome   \n",
       "3    methods/papers_with_code/results/ids_paperswit...         AI4Finance-LLC   \n",
       "4    methods/papers_with_code/results/ids_paperswit...  AI4Finance-Foundation   \n",
       "..                                                 ...                    ...   \n",
       "553            methods/pure/results/ids_pure_users.csv             keesmulder   \n",
       "554            methods/pure/results/ids_pure_users.csv         RianneSchouten   \n",
       "555            methods/pure/results/ids_pure_users.csv                  ydluo   \n",
       "556            methods/pure/results/ids_pure_users.csv            marnixnaber   \n",
       "557            methods/pure/results/ids_pure_users.csv          gjlbeckers-uu   \n",
       "\n",
       "    uu_user_id  \n",
       "0          NaN  \n",
       "1          NaN  \n",
       "2          NaN  \n",
       "3          NaN  \n",
       "4          NaN  \n",
       "..         ...  \n",
       "553        NaN  \n",
       "554        NaN  \n",
       "555        NaN  \n",
       "556        NaN  \n",
       "557        NaN  \n",
       "\n",
       "[558 rows x 3 columns]"
      ]
     },
     "execution_count": 4,
     "metadata": {},
     "output_type": "execute_result"
    }
   ],
   "source": [
    "df_github_names_long = pd.concat(\n",
    "    [ pd.read_csv(fp) for fp in data_files], \n",
    "    axis=0, \n",
    "    keys=data_files, \n",
    "    names=[\"source\", \"row\"]\n",
    ").reset_index(\"source\").reset_index(drop=True)\n",
    "df_github_names_long"
   ]
  },
  {
   "cell_type": "markdown",
   "id": "7b049fc4",
   "metadata": {},
   "source": [
    "### Retrieval count\n",
    "\n",
    "The following results shows how many times user indentifiers are found with each retrieval method. This can be an indicator the findability of users. "
   ]
  },
  {
   "cell_type": "code",
   "execution_count": 5,
   "id": "beda44e6",
   "metadata": {},
   "outputs": [
    {
     "data": {
      "text/html": [
       "<div>\n",
       "<style scoped>\n",
       "    .dataframe tbody tr th:only-of-type {\n",
       "        vertical-align: middle;\n",
       "    }\n",
       "\n",
       "    .dataframe tbody tr th {\n",
       "        vertical-align: top;\n",
       "    }\n",
       "\n",
       "    .dataframe thead th {\n",
       "        text-align: right;\n",
       "    }\n",
       "</style>\n",
       "<table border=\"1\" class=\"dataframe\">\n",
       "  <thead>\n",
       "    <tr style=\"text-align: right;\">\n",
       "      <th>source</th>\n",
       "      <th>methods/github_search/results/ids_search_repos.csv</th>\n",
       "      <th>methods/github_search/results/ids_search_users.csv</th>\n",
       "      <th>methods/github_search/results/ids_topic_repos.csv</th>\n",
       "      <th>methods/papers_with_code/results/ids_paperswithcode.csv</th>\n",
       "      <th>methods/pure/results/ids_pure_users.csv</th>\n",
       "      <th>methods/university_profile_pages/results/employees_github_usernames.csv</th>\n",
       "    </tr>\n",
       "    <tr>\n",
       "      <th>github_user_id</th>\n",
       "      <th></th>\n",
       "      <th></th>\n",
       "      <th></th>\n",
       "      <th></th>\n",
       "      <th></th>\n",
       "      <th></th>\n",
       "    </tr>\n",
       "  </thead>\n",
       "  <tbody>\n",
       "    <tr>\n",
       "      <th>19910101bacon</th>\n",
       "      <td>0</td>\n",
       "      <td>0</td>\n",
       "      <td>0</td>\n",
       "      <td>1</td>\n",
       "      <td>0</td>\n",
       "      <td>0</td>\n",
       "    </tr>\n",
       "    <tr>\n",
       "      <th>19giorgosts</th>\n",
       "      <td>0</td>\n",
       "      <td>1</td>\n",
       "      <td>0</td>\n",
       "      <td>0</td>\n",
       "      <td>0</td>\n",
       "      <td>0</td>\n",
       "    </tr>\n",
       "    <tr>\n",
       "      <th>4009509</th>\n",
       "      <td>0</td>\n",
       "      <td>1</td>\n",
       "      <td>0</td>\n",
       "      <td>0</td>\n",
       "      <td>0</td>\n",
       "      <td>0</td>\n",
       "    </tr>\n",
       "    <tr>\n",
       "      <th>73616e646572</th>\n",
       "      <td>0</td>\n",
       "      <td>0</td>\n",
       "      <td>0</td>\n",
       "      <td>0</td>\n",
       "      <td>0</td>\n",
       "      <td>1</td>\n",
       "    </tr>\n",
       "    <tr>\n",
       "      <th>AI4Finance-Foundation</th>\n",
       "      <td>0</td>\n",
       "      <td>0</td>\n",
       "      <td>0</td>\n",
       "      <td>1</td>\n",
       "      <td>0</td>\n",
       "      <td>0</td>\n",
       "    </tr>\n",
       "    <tr>\n",
       "      <th>...</th>\n",
       "      <td>...</td>\n",
       "      <td>...</td>\n",
       "      <td>...</td>\n",
       "      <td>...</td>\n",
       "      <td>...</td>\n",
       "      <td>...</td>\n",
       "    </tr>\n",
       "    <tr>\n",
       "      <th>yaikohi</th>\n",
       "      <td>0</td>\n",
       "      <td>1</td>\n",
       "      <td>0</td>\n",
       "      <td>0</td>\n",
       "      <td>0</td>\n",
       "      <td>0</td>\n",
       "    </tr>\n",
       "    <tr>\n",
       "      <th>ydluo</th>\n",
       "      <td>0</td>\n",
       "      <td>0</td>\n",
       "      <td>0</td>\n",
       "      <td>0</td>\n",
       "      <td>1</td>\n",
       "      <td>0</td>\n",
       "    </tr>\n",
       "    <tr>\n",
       "      <th>ystouthart</th>\n",
       "      <td>1</td>\n",
       "      <td>0</td>\n",
       "      <td>1</td>\n",
       "      <td>0</td>\n",
       "      <td>0</td>\n",
       "      <td>0</td>\n",
       "    </tr>\n",
       "    <tr>\n",
       "      <th>yuntaoj</th>\n",
       "      <td>0</td>\n",
       "      <td>1</td>\n",
       "      <td>0</td>\n",
       "      <td>0</td>\n",
       "      <td>0</td>\n",
       "      <td>0</td>\n",
       "    </tr>\n",
       "    <tr>\n",
       "      <th>zievathustra</th>\n",
       "      <td>2</td>\n",
       "      <td>0</td>\n",
       "      <td>0</td>\n",
       "      <td>0</td>\n",
       "      <td>0</td>\n",
       "      <td>1</td>\n",
       "    </tr>\n",
       "  </tbody>\n",
       "</table>\n",
       "<p>432 rows × 6 columns</p>\n",
       "</div>"
      ],
      "text/plain": [
       "source                 methods/github_search/results/ids_search_repos.csv  \\\n",
       "github_user_id                                                              \n",
       "19910101bacon                                                          0    \n",
       "19giorgosts                                                            0    \n",
       "4009509                                                                0    \n",
       "73616e646572                                                           0    \n",
       "AI4Finance-Foundation                                                  0    \n",
       "...                                                                  ...    \n",
       "yaikohi                                                                0    \n",
       "ydluo                                                                  0    \n",
       "ystouthart                                                             1    \n",
       "yuntaoj                                                                0    \n",
       "zievathustra                                                           2    \n",
       "\n",
       "source                 methods/github_search/results/ids_search_users.csv  \\\n",
       "github_user_id                                                              \n",
       "19910101bacon                                                          0    \n",
       "19giorgosts                                                            1    \n",
       "4009509                                                                1    \n",
       "73616e646572                                                           0    \n",
       "AI4Finance-Foundation                                                  0    \n",
       "...                                                                  ...    \n",
       "yaikohi                                                                1    \n",
       "ydluo                                                                  0    \n",
       "ystouthart                                                             0    \n",
       "yuntaoj                                                                1    \n",
       "zievathustra                                                           0    \n",
       "\n",
       "source                 methods/github_search/results/ids_topic_repos.csv  \\\n",
       "github_user_id                                                             \n",
       "19910101bacon                                                          0   \n",
       "19giorgosts                                                            0   \n",
       "4009509                                                                0   \n",
       "73616e646572                                                           0   \n",
       "AI4Finance-Foundation                                                  0   \n",
       "...                                                                  ...   \n",
       "yaikohi                                                                0   \n",
       "ydluo                                                                  0   \n",
       "ystouthart                                                             1   \n",
       "yuntaoj                                                                0   \n",
       "zievathustra                                                           0   \n",
       "\n",
       "source                 methods/papers_with_code/results/ids_paperswithcode.csv  \\\n",
       "github_user_id                                                                   \n",
       "19910101bacon                                                          1         \n",
       "19giorgosts                                                            0         \n",
       "4009509                                                                0         \n",
       "73616e646572                                                           0         \n",
       "AI4Finance-Foundation                                                  1         \n",
       "...                                                                  ...         \n",
       "yaikohi                                                                0         \n",
       "ydluo                                                                  0         \n",
       "ystouthart                                                             0         \n",
       "yuntaoj                                                                0         \n",
       "zievathustra                                                           0         \n",
       "\n",
       "source                 methods/pure/results/ids_pure_users.csv  \\\n",
       "github_user_id                                                   \n",
       "19910101bacon                                                0   \n",
       "19giorgosts                                                  0   \n",
       "4009509                                                      0   \n",
       "73616e646572                                                 0   \n",
       "AI4Finance-Foundation                                        0   \n",
       "...                                                        ...   \n",
       "yaikohi                                                      0   \n",
       "ydluo                                                        1   \n",
       "ystouthart                                                   0   \n",
       "yuntaoj                                                      0   \n",
       "zievathustra                                                 0   \n",
       "\n",
       "source                 methods/university_profile_pages/results/employees_github_usernames.csv  \n",
       "github_user_id                                                                                  \n",
       "19910101bacon                                                          0                        \n",
       "19giorgosts                                                            0                        \n",
       "4009509                                                                0                        \n",
       "73616e646572                                                           1                        \n",
       "AI4Finance-Foundation                                                  0                        \n",
       "...                                                                  ...                        \n",
       "yaikohi                                                                0                        \n",
       "ydluo                                                                  0                        \n",
       "ystouthart                                                             0                        \n",
       "yuntaoj                                                                0                        \n",
       "zievathustra                                                           1                        \n",
       "\n",
       "[432 rows x 6 columns]"
      ]
     },
     "execution_count": 5,
     "metadata": {},
     "output_type": "execute_result"
    }
   ],
   "source": [
    "df_name_method_crosstab = pd.crosstab(\n",
    "    df_github_names_long[\"github_user_id\"],\n",
    "    df_github_names_long[\"source\"]\n",
    ")\n",
    "df_name_method_crosstab"
   ]
  },
  {
   "cell_type": "markdown",
   "id": "136ba1a0",
   "metadata": {},
   "source": [
    "The following example shows the findability of the ASReview project (project at Utrecht University)."
   ]
  },
  {
   "cell_type": "code",
   "execution_count": 6,
   "id": "26df3845",
   "metadata": {},
   "outputs": [
    {
     "data": {
      "text/plain": [
       "source\n",
       "methods/github_search/results/ids_search_repos.csv                         0\n",
       "methods/github_search/results/ids_search_users.csv                         0\n",
       "methods/github_search/results/ids_topic_repos.csv                          6\n",
       "methods/papers_with_code/results/ids_paperswithcode.csv                    0\n",
       "methods/pure/results/ids_pure_users.csv                                    0\n",
       "methods/university_profile_pages/results/employees_github_usernames.csv    2\n",
       "Name: asreview, dtype: int64"
      ]
     },
     "execution_count": 6,
     "metadata": {},
     "output_type": "execute_result"
    }
   ],
   "source": [
    "df_name_method_crosstab.loc['asreview']"
   ]
  },
  {
   "cell_type": "code",
   "execution_count": 7,
   "id": "4398173c",
   "metadata": {},
   "outputs": [
    {
     "data": {
      "text/plain": [
       "github_user_id\n",
       "kevin4998            3\n",
       "ekatrukha            3\n",
       "J535D165             3\n",
       "UU-Hydro             3\n",
       "UtrechtUniversity    3\n",
       "                    ..\n",
       "SonicwaveNL          1\n",
       "SolennWalstra        1\n",
       "SiefBlok             1\n",
       "SanliFaez            1\n",
       "brentp               1\n",
       "Length: 432, dtype: int64"
      ]
     },
     "execution_count": 7,
     "metadata": {},
     "output_type": "execute_result"
    }
   ],
   "source": [
    "df_name_findability = (df_name_method_crosstab > 0).astype(int).sum(axis=1).sort_values(ascending=False)\n",
    "df_name_findability"
   ]
  },
  {
   "cell_type": "code",
   "execution_count": 8,
   "id": "e3467f60",
   "metadata": {},
   "outputs": [
    {
     "data": {
      "text/plain": [
       "source\n",
       "methods/github_search/results/ids_search_users.csv                         224\n",
       "methods/github_search/results/ids_search_repos.csv                         161\n",
       "methods/university_profile_pages/results/employees_github_usernames.csv     55\n",
       "methods/github_search/results/ids_topic_repos.csv                           11\n",
       "methods/papers_with_code/results/ids_paperswithcode.csv                     11\n",
       "methods/pure/results/ids_pure_users.csv                                     11\n",
       "dtype: int64"
      ]
     },
     "execution_count": 8,
     "metadata": {},
     "output_type": "execute_result"
    }
   ],
   "source": [
    "df_method_findability = (df_name_method_crosstab > 0).astype(int).sum(axis=0).sort_values(ascending=False)\n",
    "df_method_findability"
   ]
  },
  {
   "cell_type": "code",
   "execution_count": 9,
   "id": "09bcfe34",
   "metadata": {},
   "outputs": [
    {
     "ename": "FileNotFoundError",
     "evalue": "[Errno 2] No such file or directory: 'figs/user_collection_user_findability.png'",
     "output_type": "error",
     "traceback": [
      "\u001b[0;31m---------------------------------------------------------------------------\u001b[0m",
      "\u001b[0;31mFileNotFoundError\u001b[0m                         Traceback (most recent call last)",
      "\u001b[0;32m/var/folders/jp/nykhdfms23v5pznbdssbq0980000gp/T/ipykernel_7439/1503082011.py\u001b[0m in \u001b[0;36m<module>\u001b[0;34m\u001b[0m\n\u001b[1;32m      1\u001b[0m \u001b[0mdf_name_findability\u001b[0m\u001b[0;34m.\u001b[0m\u001b[0mplot\u001b[0m\u001b[0;34m.\u001b[0m\u001b[0mhist\u001b[0m\u001b[0;34m(\u001b[0m\u001b[0;34m)\u001b[0m\u001b[0;34m\u001b[0m\u001b[0;34m\u001b[0m\u001b[0m\n\u001b[0;32m----> 2\u001b[0;31m \u001b[0mplt\u001b[0m\u001b[0;34m.\u001b[0m\u001b[0msavefig\u001b[0m\u001b[0;34m(\u001b[0m\u001b[0mPath\u001b[0m\u001b[0;34m(\u001b[0m\u001b[0mfp_figs\u001b[0m\u001b[0;34m,\u001b[0m \u001b[0;34m'user_collection_user_findability.png'\u001b[0m\u001b[0;34m)\u001b[0m\u001b[0;34m)\u001b[0m\u001b[0;34m\u001b[0m\u001b[0;34m\u001b[0m\u001b[0m\n\u001b[0m",
      "\u001b[0;32m/opt/homebrew/Caskroom/miniforge/base/envs/asreview_m1/lib/python3.9/site-packages/matplotlib/pyplot.py\u001b[0m in \u001b[0;36msavefig\u001b[0;34m(*args, **kwargs)\u001b[0m\n\u001b[1;32m    964\u001b[0m \u001b[0;32mdef\u001b[0m \u001b[0msavefig\u001b[0m\u001b[0;34m(\u001b[0m\u001b[0;34m*\u001b[0m\u001b[0margs\u001b[0m\u001b[0;34m,\u001b[0m \u001b[0;34m**\u001b[0m\u001b[0mkwargs\u001b[0m\u001b[0;34m)\u001b[0m\u001b[0;34m:\u001b[0m\u001b[0;34m\u001b[0m\u001b[0;34m\u001b[0m\u001b[0m\n\u001b[1;32m    965\u001b[0m     \u001b[0mfig\u001b[0m \u001b[0;34m=\u001b[0m \u001b[0mgcf\u001b[0m\u001b[0;34m(\u001b[0m\u001b[0;34m)\u001b[0m\u001b[0;34m\u001b[0m\u001b[0;34m\u001b[0m\u001b[0m\n\u001b[0;32m--> 966\u001b[0;31m     \u001b[0mres\u001b[0m \u001b[0;34m=\u001b[0m \u001b[0mfig\u001b[0m\u001b[0;34m.\u001b[0m\u001b[0msavefig\u001b[0m\u001b[0;34m(\u001b[0m\u001b[0;34m*\u001b[0m\u001b[0margs\u001b[0m\u001b[0;34m,\u001b[0m \u001b[0;34m**\u001b[0m\u001b[0mkwargs\u001b[0m\u001b[0;34m)\u001b[0m\u001b[0;34m\u001b[0m\u001b[0;34m\u001b[0m\u001b[0m\n\u001b[0m\u001b[1;32m    967\u001b[0m     \u001b[0mfig\u001b[0m\u001b[0;34m.\u001b[0m\u001b[0mcanvas\u001b[0m\u001b[0;34m.\u001b[0m\u001b[0mdraw_idle\u001b[0m\u001b[0;34m(\u001b[0m\u001b[0;34m)\u001b[0m   \u001b[0;31m# need this if 'transparent=True' to reset colors\u001b[0m\u001b[0;34m\u001b[0m\u001b[0;34m\u001b[0m\u001b[0m\n\u001b[1;32m    968\u001b[0m     \u001b[0;32mreturn\u001b[0m \u001b[0mres\u001b[0m\u001b[0;34m\u001b[0m\u001b[0;34m\u001b[0m\u001b[0m\n",
      "\u001b[0;32m/opt/homebrew/Caskroom/miniforge/base/envs/asreview_m1/lib/python3.9/site-packages/matplotlib/figure.py\u001b[0m in \u001b[0;36msavefig\u001b[0;34m(self, fname, transparent, **kwargs)\u001b[0m\n\u001b[1;32m   3013\u001b[0m                 \u001b[0mpatch\u001b[0m\u001b[0;34m.\u001b[0m\u001b[0mset_edgecolor\u001b[0m\u001b[0;34m(\u001b[0m\u001b[0;34m'none'\u001b[0m\u001b[0;34m)\u001b[0m\u001b[0;34m\u001b[0m\u001b[0;34m\u001b[0m\u001b[0m\n\u001b[1;32m   3014\u001b[0m \u001b[0;34m\u001b[0m\u001b[0m\n\u001b[0;32m-> 3015\u001b[0;31m         \u001b[0mself\u001b[0m\u001b[0;34m.\u001b[0m\u001b[0mcanvas\u001b[0m\u001b[0;34m.\u001b[0m\u001b[0mprint_figure\u001b[0m\u001b[0;34m(\u001b[0m\u001b[0mfname\u001b[0m\u001b[0;34m,\u001b[0m \u001b[0;34m**\u001b[0m\u001b[0mkwargs\u001b[0m\u001b[0;34m)\u001b[0m\u001b[0;34m\u001b[0m\u001b[0;34m\u001b[0m\u001b[0m\n\u001b[0m\u001b[1;32m   3016\u001b[0m \u001b[0;34m\u001b[0m\u001b[0m\n\u001b[1;32m   3017\u001b[0m         \u001b[0;32mif\u001b[0m \u001b[0mtransparent\u001b[0m\u001b[0;34m:\u001b[0m\u001b[0;34m\u001b[0m\u001b[0;34m\u001b[0m\u001b[0m\n",
      "\u001b[0;32m/opt/homebrew/Caskroom/miniforge/base/envs/asreview_m1/lib/python3.9/site-packages/matplotlib/backend_bases.py\u001b[0m in \u001b[0;36mprint_figure\u001b[0;34m(self, filename, dpi, facecolor, edgecolor, orientation, format, bbox_inches, pad_inches, bbox_extra_artists, backend, **kwargs)\u001b[0m\n\u001b[1;32m   2253\u001b[0m                 \u001b[0;31m# force the figure dpi to 72), so we need to set it again here.\u001b[0m\u001b[0;34m\u001b[0m\u001b[0;34m\u001b[0m\u001b[0m\n\u001b[1;32m   2254\u001b[0m                 \u001b[0;32mwith\u001b[0m \u001b[0mcbook\u001b[0m\u001b[0;34m.\u001b[0m\u001b[0m_setattr_cm\u001b[0m\u001b[0;34m(\u001b[0m\u001b[0mself\u001b[0m\u001b[0;34m.\u001b[0m\u001b[0mfigure\u001b[0m\u001b[0;34m,\u001b[0m \u001b[0mdpi\u001b[0m\u001b[0;34m=\u001b[0m\u001b[0mdpi\u001b[0m\u001b[0;34m)\u001b[0m\u001b[0;34m:\u001b[0m\u001b[0;34m\u001b[0m\u001b[0;34m\u001b[0m\u001b[0m\n\u001b[0;32m-> 2255\u001b[0;31m                     result = print_method(\n\u001b[0m\u001b[1;32m   2256\u001b[0m                         \u001b[0mfilename\u001b[0m\u001b[0;34m,\u001b[0m\u001b[0;34m\u001b[0m\u001b[0;34m\u001b[0m\u001b[0m\n\u001b[1;32m   2257\u001b[0m                         \u001b[0mfacecolor\u001b[0m\u001b[0;34m=\u001b[0m\u001b[0mfacecolor\u001b[0m\u001b[0;34m,\u001b[0m\u001b[0;34m\u001b[0m\u001b[0;34m\u001b[0m\u001b[0m\n",
      "\u001b[0;32m/opt/homebrew/Caskroom/miniforge/base/envs/asreview_m1/lib/python3.9/site-packages/matplotlib/backend_bases.py\u001b[0m in \u001b[0;36mwrapper\u001b[0;34m(*args, **kwargs)\u001b[0m\n\u001b[1;32m   1667\u001b[0m             \u001b[0mkwargs\u001b[0m\u001b[0;34m.\u001b[0m\u001b[0mpop\u001b[0m\u001b[0;34m(\u001b[0m\u001b[0marg\u001b[0m\u001b[0;34m)\u001b[0m\u001b[0;34m\u001b[0m\u001b[0;34m\u001b[0m\u001b[0m\n\u001b[1;32m   1668\u001b[0m \u001b[0;34m\u001b[0m\u001b[0m\n\u001b[0;32m-> 1669\u001b[0;31m         \u001b[0;32mreturn\u001b[0m \u001b[0mfunc\u001b[0m\u001b[0;34m(\u001b[0m\u001b[0;34m*\u001b[0m\u001b[0margs\u001b[0m\u001b[0;34m,\u001b[0m \u001b[0;34m**\u001b[0m\u001b[0mkwargs\u001b[0m\u001b[0;34m)\u001b[0m\u001b[0;34m\u001b[0m\u001b[0;34m\u001b[0m\u001b[0m\n\u001b[0m\u001b[1;32m   1670\u001b[0m \u001b[0;34m\u001b[0m\u001b[0m\n\u001b[1;32m   1671\u001b[0m     \u001b[0;32mreturn\u001b[0m \u001b[0mwrapper\u001b[0m\u001b[0;34m\u001b[0m\u001b[0;34m\u001b[0m\u001b[0m\n",
      "\u001b[0;32m/opt/homebrew/Caskroom/miniforge/base/envs/asreview_m1/lib/python3.9/site-packages/matplotlib/backends/backend_agg.py\u001b[0m in \u001b[0;36mprint_png\u001b[0;34m(self, filename_or_obj, metadata, pil_kwargs, *args)\u001b[0m\n\u001b[1;32m    507\u001b[0m         \"\"\"\n\u001b[1;32m    508\u001b[0m         \u001b[0mFigureCanvasAgg\u001b[0m\u001b[0;34m.\u001b[0m\u001b[0mdraw\u001b[0m\u001b[0;34m(\u001b[0m\u001b[0mself\u001b[0m\u001b[0;34m)\u001b[0m\u001b[0;34m\u001b[0m\u001b[0;34m\u001b[0m\u001b[0m\n\u001b[0;32m--> 509\u001b[0;31m         mpl.image.imsave(\n\u001b[0m\u001b[1;32m    510\u001b[0m             \u001b[0mfilename_or_obj\u001b[0m\u001b[0;34m,\u001b[0m \u001b[0mself\u001b[0m\u001b[0;34m.\u001b[0m\u001b[0mbuffer_rgba\u001b[0m\u001b[0;34m(\u001b[0m\u001b[0;34m)\u001b[0m\u001b[0;34m,\u001b[0m \u001b[0mformat\u001b[0m\u001b[0;34m=\u001b[0m\u001b[0;34m\"png\"\u001b[0m\u001b[0;34m,\u001b[0m \u001b[0morigin\u001b[0m\u001b[0;34m=\u001b[0m\u001b[0;34m\"upper\"\u001b[0m\u001b[0;34m,\u001b[0m\u001b[0;34m\u001b[0m\u001b[0;34m\u001b[0m\u001b[0m\n\u001b[1;32m    511\u001b[0m             dpi=self.figure.dpi, metadata=metadata, pil_kwargs=pil_kwargs)\n",
      "\u001b[0;32m/opt/homebrew/Caskroom/miniforge/base/envs/asreview_m1/lib/python3.9/site-packages/matplotlib/image.py\u001b[0m in \u001b[0;36mimsave\u001b[0;34m(fname, arr, vmin, vmax, cmap, format, origin, dpi, metadata, pil_kwargs)\u001b[0m\n\u001b[1;32m   1614\u001b[0m         \u001b[0mpil_kwargs\u001b[0m\u001b[0;34m.\u001b[0m\u001b[0msetdefault\u001b[0m\u001b[0;34m(\u001b[0m\u001b[0;34m\"format\"\u001b[0m\u001b[0;34m,\u001b[0m \u001b[0mformat\u001b[0m\u001b[0;34m)\u001b[0m\u001b[0;34m\u001b[0m\u001b[0;34m\u001b[0m\u001b[0m\n\u001b[1;32m   1615\u001b[0m         \u001b[0mpil_kwargs\u001b[0m\u001b[0;34m.\u001b[0m\u001b[0msetdefault\u001b[0m\u001b[0;34m(\u001b[0m\u001b[0;34m\"dpi\"\u001b[0m\u001b[0;34m,\u001b[0m \u001b[0;34m(\u001b[0m\u001b[0mdpi\u001b[0m\u001b[0;34m,\u001b[0m \u001b[0mdpi\u001b[0m\u001b[0;34m)\u001b[0m\u001b[0;34m)\u001b[0m\u001b[0;34m\u001b[0m\u001b[0;34m\u001b[0m\u001b[0m\n\u001b[0;32m-> 1616\u001b[0;31m         \u001b[0mimage\u001b[0m\u001b[0;34m.\u001b[0m\u001b[0msave\u001b[0m\u001b[0;34m(\u001b[0m\u001b[0mfname\u001b[0m\u001b[0;34m,\u001b[0m \u001b[0;34m**\u001b[0m\u001b[0mpil_kwargs\u001b[0m\u001b[0;34m)\u001b[0m\u001b[0;34m\u001b[0m\u001b[0;34m\u001b[0m\u001b[0m\n\u001b[0m\u001b[1;32m   1617\u001b[0m \u001b[0;34m\u001b[0m\u001b[0m\n\u001b[1;32m   1618\u001b[0m \u001b[0;34m\u001b[0m\u001b[0m\n",
      "\u001b[0;32m/opt/homebrew/Caskroom/miniforge/base/envs/asreview_m1/lib/python3.9/site-packages/PIL/Image.py\u001b[0m in \u001b[0;36msave\u001b[0;34m(self, fp, format, **params)\u001b[0m\n\u001b[1;32m   2235\u001b[0m                 \u001b[0mfp\u001b[0m \u001b[0;34m=\u001b[0m \u001b[0mbuiltins\u001b[0m\u001b[0;34m.\u001b[0m\u001b[0mopen\u001b[0m\u001b[0;34m(\u001b[0m\u001b[0mfilename\u001b[0m\u001b[0;34m,\u001b[0m \u001b[0;34m\"r+b\"\u001b[0m\u001b[0;34m)\u001b[0m\u001b[0;34m\u001b[0m\u001b[0;34m\u001b[0m\u001b[0m\n\u001b[1;32m   2236\u001b[0m             \u001b[0;32melse\u001b[0m\u001b[0;34m:\u001b[0m\u001b[0;34m\u001b[0m\u001b[0;34m\u001b[0m\u001b[0m\n\u001b[0;32m-> 2237\u001b[0;31m                 \u001b[0mfp\u001b[0m \u001b[0;34m=\u001b[0m \u001b[0mbuiltins\u001b[0m\u001b[0;34m.\u001b[0m\u001b[0mopen\u001b[0m\u001b[0;34m(\u001b[0m\u001b[0mfilename\u001b[0m\u001b[0;34m,\u001b[0m \u001b[0;34m\"w+b\"\u001b[0m\u001b[0;34m)\u001b[0m\u001b[0;34m\u001b[0m\u001b[0;34m\u001b[0m\u001b[0m\n\u001b[0m\u001b[1;32m   2238\u001b[0m \u001b[0;34m\u001b[0m\u001b[0m\n\u001b[1;32m   2239\u001b[0m         \u001b[0;32mtry\u001b[0m\u001b[0;34m:\u001b[0m\u001b[0;34m\u001b[0m\u001b[0;34m\u001b[0m\u001b[0m\n",
      "\u001b[0;31mFileNotFoundError\u001b[0m: [Errno 2] No such file or directory: 'figs/user_collection_user_findability.png'"
     ]
    },
    {
     "data": {
      "image/png": "[encoded data removed]",
      "text/plain": [
       "<Figure size 432x288 with 1 Axes>"
      ]
     },
     "metadata": {
      "needs_background": "light"
     },
     "output_type": "display_data"
    }
   ],
   "source": [
    "df_name_findability.plot.hist()\n",
    "plt.savefig(Path(fp_figs, 'user_collection_user_findability.png'))"
   ]
  },
  {
   "cell_type": "code",
   "execution_count": null,
   "id": "837350b7",
   "metadata": {},
   "outputs": [],
   "source": [
    "df_method_findability.plot.bar()\n",
    "plt.savefig(Path(fp_figs, 'user_collection_method_findability.png'))"
   ]
  },
  {
   "cell_type": "code",
   "execution_count": null,
   "id": "2ae0dbf3",
   "metadata": {},
   "outputs": [],
   "source": [
    "df_annotated_users = pd.read_excel(Path(\"results\", \"unique_users_annotated.xlsx\"))\n",
    "df_annotated_users[[\"github_user_id\", \"is_student\", \"is_employee\", \"is_currently_employed\", \"is_research_group\", \"final_decision\"]]"
   ]
  },
  {
   "cell_type": "code",
   "execution_count": null,
   "id": "0c7c904f",
   "metadata": {},
   "outputs": [],
   "source": [
    "df_annotated_users_included = df_annotated_users[df_annotated_users[\"final_decision\"] == 1]"
   ]
  },
  {
   "cell_type": "code",
   "execution_count": null,
   "id": "61f91f8f",
   "metadata": {},
   "outputs": [],
   "source": [
    "df_annotated_users_included.boxplot(column=['public_repos','public_gists', 'followers', 'following'])\n"
   ]
  },
  {
   "cell_type": "code",
   "execution_count": null,
   "id": "0f778b84",
   "metadata": {},
   "outputs": [],
   "source": [
    "sns.boxplot(x=df_annotated_users_included['public_repos'], showfliers = False)\n",
    "df_annotated_users_included.sort_values('public_repos', ascending=False).head(10)"
   ]
  },
  {
   "cell_type": "code",
   "execution_count": null,
   "id": "6962d384",
   "metadata": {},
   "outputs": [],
   "source": [
    "sns.boxplot(x=df_annotated_users_included['public_gists'])\n",
    "df_annotated_users_included.sort_values('public_gists', ascending=False).head(10)"
   ]
  },
  {
   "cell_type": "code",
   "execution_count": null,
   "id": "0605782a",
   "metadata": {},
   "outputs": [],
   "source": [
    "sns.boxplot(x=df_annotated_users_included['followers'])\n",
    "df_annotated_users_included.sort_values('followers', ascending=False).head(10)"
   ]
  },
  {
   "cell_type": "code",
   "execution_count": null,
   "id": "5d43c630",
   "metadata": {},
   "outputs": [],
   "source": [
    "sns.boxplot(x=df_annotated_users_included['following'], showfliers = False)\n",
    "df_annotated_users_included.sort_values('following', ascending=False).head(10)\n"
   ]
  }
 ],
 "metadata": {
  "kernelspec": {
   "display_name": "Python 3 (ipykernel)",
   "language": "python",
   "name": "python3"
  },
  "language_info": {
   "codemirror_mode": {
    "name": "ipython",
    "version": 3
   },
   "file_extension": ".py",
   "mimetype": "text/x-python",
   "name": "python",
   "nbconvert_exporter": "python",
   "pygments_lexer": "ipython3",
   "version": "3.9.7"
  }
 },
 "nbformat": 4,
 "nbformat_minor": 5
}
